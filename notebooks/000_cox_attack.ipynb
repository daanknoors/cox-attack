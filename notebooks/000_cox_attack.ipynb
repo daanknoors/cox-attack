{
 "cells": [
  {
   "cell_type": "markdown",
   "metadata": {},
   "source": [
    "# Attack on Cox Proportional Hazards Model"
   ]
  },
  {
   "cell_type": "markdown",
   "metadata": {},
   "source": [
    "## Load libraries and define settings"
   ]
  },
  {
   "cell_type": "code",
   "execution_count": 1,
   "metadata": {
    "ExecuteTime": {
     "end_time": "2024-04-23T07:54:55.476816Z",
     "start_time": "2024-04-23T07:54:55.474901Z"
    }
   },
   "outputs": [],
   "source": [
    "# general dependencies\n",
    "import numpy as np\n",
    "import pandas as pd\n",
    "import matplotlib.pyplot as plt\n",
    "import seaborn as sns\n",
    "import sys\n",
    "import os\n",
    "from pathlib import Path\n",
    "import warnings"
   ]
  },
  {
   "cell_type": "code",
   "execution_count": 2,
   "metadata": {
    "ExecuteTime": {
     "end_time": "2024-04-23T07:54:55.674355Z",
     "start_time": "2024-04-23T07:54:55.658566Z"
    }
   },
   "outputs": [
    {
     "name": "stdout",
     "output_type": "stream",
     "text": [
      "The autoreload extension is already loaded. To reload it, use:\n",
      "  %reload_ext autoreload\n"
     ]
    }
   ],
   "source": [
    "# ignore deprecation warning\n",
    "warnings.filterwarnings(\"ignore\", category=DeprecationWarning) \n",
    "\n",
    "# autoreload changes from local files\n",
    "%load_ext autoreload\n",
    "%autoreload 2\n",
    "\n",
    "# pandas show full output\n",
    "pd.set_option('display.max_rows', 500)\n",
    "pd.set_option('display.max_columns', 200)"
   ]
  },
  {
   "cell_type": "markdown",
   "metadata": {},
   "source": [
    "## Load example dataset"
   ]
  },
  {
   "cell_type": "code",
   "execution_count": 3,
   "metadata": {
    "ExecuteTime": {
     "end_time": "2024-04-23T07:54:56.636753Z",
     "start_time": "2024-04-23T07:54:56.170978Z"
    }
   },
   "outputs": [
    {
     "data": {
      "text/html": [
       "<div>\n",
       "<style scoped>\n",
       "    .dataframe tbody tr th:only-of-type {\n",
       "        vertical-align: middle;\n",
       "    }\n",
       "\n",
       "    .dataframe tbody tr th {\n",
       "        vertical-align: top;\n",
       "    }\n",
       "\n",
       "    .dataframe thead th {\n",
       "        text-align: right;\n",
       "    }\n",
       "</style>\n",
       "<table border=\"1\" class=\"dataframe\">\n",
       "  <thead>\n",
       "    <tr style=\"text-align: right;\">\n",
       "      <th></th>\n",
       "      <th>patient</th>\n",
       "      <th>time</th>\n",
       "      <th>event</th>\n",
       "      <th>x1</th>\n",
       "      <th>x2</th>\n",
       "    </tr>\n",
       "  </thead>\n",
       "  <tbody>\n",
       "    <tr>\n",
       "      <th>0</th>\n",
       "      <td>1</td>\n",
       "      <td>5</td>\n",
       "      <td>1</td>\n",
       "      <td>2</td>\n",
       "      <td>1</td>\n",
       "    </tr>\n",
       "    <tr>\n",
       "      <th>1</th>\n",
       "      <td>2</td>\n",
       "      <td>3</td>\n",
       "      <td>1</td>\n",
       "      <td>1</td>\n",
       "      <td>2</td>\n",
       "    </tr>\n",
       "    <tr>\n",
       "      <th>2</th>\n",
       "      <td>3</td>\n",
       "      <td>4</td>\n",
       "      <td>0</td>\n",
       "      <td>3</td>\n",
       "      <td>1</td>\n",
       "    </tr>\n",
       "  </tbody>\n",
       "</table>\n",
       "</div>"
      ],
      "text/plain": [
       "   patient  time  event  x1  x2\n",
       "0        1     5      1   2   1\n",
       "1        2     3      1   1   2\n",
       "2        3     4      0   3   1"
      ]
     },
     "execution_count": 3,
     "metadata": {},
     "output_type": "execute_result"
    }
   ],
   "source": [
    "df = pd.DataFrame({\n",
    "    'patient': [1, 2, 3],\n",
    "    'time': [5, 3, 4],\n",
    "    'event': [1, 1, 0],\n",
    "    'x1': [2, 1, 3],\n",
    "    'x2': [1, 2, 1]\n",
    "})\n",
    "df\n"
   ]
  },
  {
   "cell_type": "markdown",
   "metadata": {},
   "source": [
    "## Attack\n",
    "- initalize model\n",
    "- compute gradients using data\n",
    "- reverse engineer original records that resulted in gradients"
   ]
  },
  {
   "cell_type": "code",
   "execution_count": 4,
   "metadata": {},
   "outputs": [],
   "source": [
    "init_beta = [0.1, 0.2]"
   ]
  },
  {
   "cell_type": "code",
   "execution_count": 10,
   "metadata": {},
   "outputs": [
    {
     "data": {
      "text/plain": [
       "array([-6.57853448, -3.43798851])"
      ]
     },
     "execution_count": 10,
     "metadata": {},
     "output_type": "execute_result"
    }
   ],
   "source": [
    "def compute_gradient(beta, event, time, covariates):\n",
    "    gradient = np.zeros(len(beta))\n",
    "    for i in range(len(event)):\n",
    "        hazard = np.exp(np.dot(beta, covariates[i]))\n",
    "        gradient += covariates[i] * (event[i] - hazard)\n",
    "    return gradient\n",
    "\n",
    "compute_gradient(beta=init_beta, event=df['event'], time=df['time'], covariates=df[['x1', 'x2']].values)"
   ]
  },
  {
   "cell_type": "code",
   "execution_count": 5,
   "metadata": {},
   "outputs": [
    {
     "data": {
      "text/plain": [
       "array([-6.57853448, -3.43798851])"
      ]
     },
     "execution_count": 5,
     "metadata": {},
     "output_type": "execute_result"
    }
   ],
   "source": [
    "def compute_gradient(df, event_column, time_column, covariate_columns, cox_params):\n",
    "    df_ordered = df.sort_values(by=[time_column])\n",
    "    gradient = np.zeros(len(cox_params))\n",
    "    for i in range(len(df_ordered)):\n",
    "        hazard = np.exp(np.dot(cox_params, df_ordered[covariate_columns].values[i]))\n",
    "        gradient += df_ordered[covariate_columns].values[i] * (df_ordered[event_column].values[i] - hazard)\n",
    "    return gradient\n",
    "\n",
    "compute_gradient(df=df, event_column='event', time_column='time', covariate_columns=['x1', 'x2'], cox_params=init_beta)\n"
   ]
  },
  {
   "cell_type": "code",
   "execution_count": 8,
   "metadata": {},
   "outputs": [
    {
     "ename": "IndexError",
     "evalue": "arrays used as indices must be of integer (or boolean) type",
     "output_type": "error",
     "traceback": [
      "\u001b[0;31m---------------------------------------------------------------------------\u001b[0m",
      "\u001b[0;31mIndexError\u001b[0m                                Traceback (most recent call last)",
      "Cell \u001b[0;32mIn[8], line 25\u001b[0m\n\u001b[1;32m     21\u001b[0m         mask_at_risk[i] \u001b[38;5;241m=\u001b[39m \u001b[38;5;241m0\u001b[39m\n\u001b[1;32m     23\u001b[0m     \u001b[38;5;28;01mreturn\u001b[39;00m gradient\n\u001b[0;32m---> 25\u001b[0m compute_gradient(df\u001b[38;5;241m=\u001b[39mdf, event_column\u001b[38;5;241m=\u001b[39m\u001b[38;5;124m'\u001b[39m\u001b[38;5;124mevent\u001b[39m\u001b[38;5;124m'\u001b[39m, time_column\u001b[38;5;241m=\u001b[39m\u001b[38;5;124m'\u001b[39m\u001b[38;5;124mtime\u001b[39m\u001b[38;5;124m'\u001b[39m, covariate_columns\u001b[38;5;241m=\u001b[39m[\u001b[38;5;124m'\u001b[39m\u001b[38;5;124mx1\u001b[39m\u001b[38;5;124m'\u001b[39m, \u001b[38;5;124m'\u001b[39m\u001b[38;5;124mx2\u001b[39m\u001b[38;5;124m'\u001b[39m], cox_params\u001b[38;5;241m=\u001b[39minit_beta)\n",
      "Cell \u001b[0;32mIn[8], line 16\u001b[0m, in \u001b[0;36mcompute_gradient\u001b[0;34m(df, event_column, time_column, covariate_columns, cox_params)\u001b[0m\n\u001b[1;32m     13\u001b[0m     \u001b[38;5;28;01mcontinue\u001b[39;00m\n\u001b[1;32m     15\u001b[0m \u001b[38;5;66;03m# compute hazard risk group\u001b[39;00m\n\u001b[0;32m---> 16\u001b[0m hazard_term \u001b[38;5;241m=\u001b[39m np\u001b[38;5;241m.\u001b[39mexp(np\u001b[38;5;241m.\u001b[39mdot(cox_params, X[mask_at_risk]))\n\u001b[1;32m     17\u001b[0m hazard \u001b[38;5;241m=\u001b[39m (hazard_term \u001b[38;5;241m*\u001b[39m X[mask_at_risk]) \u001b[38;5;241m/\u001b[39m hazard_term\u001b[38;5;241m.\u001b[39msum()\n\u001b[1;32m     18\u001b[0m gradient \u001b[38;5;241m=\u001b[39m X[i] \u001b[38;5;241m-\u001b[39m hazard\n",
      "\u001b[0;31mIndexError\u001b[0m: arrays used as indices must be of integer (or boolean) type"
     ]
    }
   ],
   "source": [
    "def compute_gradient(df, event_column, time_column, covariate_columns, cox_params):\n",
    "    df_ordered = df.sort_values(by=[time_column])\n",
    "\n",
    "    E = df_ordered[event_column].values\n",
    "    X = df_ordered[covariate_columns].values\n",
    "\n",
    "\n",
    "    gradient = np.zeros(len(cox_params))\n",
    "    mask_at_risk = np.ones(len(df_ordered))\n",
    "    for i in range(len(df_ordered)):\n",
    "        # censored event don't compute gradient\n",
    "        if E[i] == 0:\n",
    "            continue\n",
    "        \n",
    "        # compute hazard risk group\n",
    "        hazard_term = np.exp(np.dot(cox_params, X[mask_at_risk]))\n",
    "        hazard = (hazard_term * X[mask_at_risk]) / hazard_term.sum()\n",
    "        gradient = X[i] - hazard\n",
    "\n",
    "        # remove from risk set\n",
    "        mask_at_risk[i] = 0\n",
    "\n",
    "    return gradient\n",
    "\n",
    "compute_gradient(df=df, event_column='event', time_column='time', covariate_columns=['x1', 'x2'], cox_params=init_beta)\n",
    "    "
   ]
  },
  {
   "cell_type": "code",
   "execution_count": null,
   "metadata": {},
   "outputs": [],
   "source": [
    "def gradient_update(beta, gradient, learning_rate):\n",
    "    return beta + learning_rate * gradient\n"
   ]
  },
  {
   "cell_type": "markdown",
   "metadata": {},
   "source": []
  }
 ],
 "metadata": {
  "kernelspec": {
   "display_name": "Python 3 (ipykernel)",
   "language": "python",
   "name": "python3"
  },
  "language_info": {
   "codemirror_mode": {
    "name": "ipython",
    "version": 3
   },
   "file_extension": ".py",
   "mimetype": "text/x-python",
   "name": "python",
   "nbconvert_exporter": "python",
   "pygments_lexer": "ipython3",
   "version": "3.12.3"
  }
 },
 "nbformat": 4,
 "nbformat_minor": 4
}
